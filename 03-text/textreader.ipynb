{
 "cells": [
  {
   "cell_type": "code",
   "execution_count": 6,
   "metadata": {},
   "outputs": [
    {
     "name": "stdout",
     "output_type": "stream",
     "text": [
      "[100 105 100 ...  48  49  56]\n"
     ]
    },
    {
     "data": {
      "image/png": "[encoded data removed]",
      "text/plain": [
       "<Figure size 432x288 with 1 Axes>"
      ]
     },
     "metadata": {},
     "output_type": "display_data"
    }
   ],
   "source": [
    "#!wget \"http://www.snopes.com/facebook-ai-developed-own-language/\"\n",
    "from bs4 import BeautifulSoup\n",
    "import re\n",
    "import matplotlib.pyplot as plt\n",
    "import numpy as np\n",
    "\n",
    "html = open(\"index.html\").read()\n",
    "data = BeautifulSoup(html, 'html.parser')\n",
    "article = data.article\n",
    "for tagsWeDontNeed in data([\"script\", \"iframe\"]):\n",
    "    tagsWeDontNeed.decompose()\n",
    "text = article.get_text()\n",
    "text = re.sub(\"\\(|\\)| |\\n|\\t|\\\"|'|\\+|,|-|\\.|/|:|;|\\xa0|—|‘|’|“|”\", \"\", text)\n",
    "text = text.lower()\n",
    "\n",
    "characters = {}\n",
    "\n",
    "for character in text:\n",
    "    characters[character] = characters.get(character, 0) + 1\n",
    "rendezett_betuk = characters.items()\n",
    "a = sorted(rendezett_betuk)\n",
    "\n",
    "#print (a)\n",
    "\n",
    "# Convert the string to an array of integers\n",
    "numbers = np.array([ord(c) for c in text])\n",
    "print(numbers)\n",
    "u = np.unique(numbers)\n",
    "# Make the integers range from 0 to n so there are no gaps in the histogram\n",
    "# [0][0] was a hack to make sure `np.where` returned an int instead of an array.\n",
    "ind = [np.where(u==n)[0][0] for n in numbers]\n",
    "bins = range(0,len(u)+1)\n",
    "hist, bins = np.histogram(ind, bins)\n",
    "\n",
    "plt.bar(bins[:-1], hist, align='center')\n",
    "plt.xticks(np.unique(ind), [str(chr(n)) for n in set(numbers)])\n",
    "plt.grid()\n",
    "plt.show()\n"
   ]
  },
  {
   "cell_type": "code",
   "execution_count": null,
   "metadata": {},
   "outputs": [],
   "source": []
  },
  {
   "cell_type": "code",
   "execution_count": null,
   "metadata": {},
   "outputs": [],
   "source": []
  }
 ],
 "metadata": {
  "kernelspec": {
   "display_name": "Python 3",
   "language": "python",
   "name": "python3"
  },
  "language_info": {
   "codemirror_mode": {
    "name": "ipython",
    "version": 3
   },
   "file_extension": ".py",
   "mimetype": "text/x-python",
   "name": "python",
   "nbconvert_exporter": "python",
   "pygments_lexer": "ipython3",
   "version": "3.6.5"
  }
 },
 "nbformat": 4,
 "nbformat_minor": 2
}
