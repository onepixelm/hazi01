{
 "cells": [
  {
   "cell_type": "code",
   "execution_count": 1,
   "metadata": {},
   "outputs": [
    {
     "name": "stdout",
     "output_type": "stream",
     "text": [
      "Requirement already satisfied: opencv-python in /sysroot/home/kakas/anaconda3/lib/python3.6/site-packages (3.4.3.18)\n",
      "Requirement already satisfied: numpy>=1.11.3 in /sysroot/home/kakas/anaconda3/lib/python3.6/site-packages (from opencv-python) (1.14.3)\n",
      "\u001b[31mdistributed 1.21.8 requires msgpack, which is not installed.\u001b[0m\n",
      "\u001b[33mYou are using pip version 10.0.1, however version 18.0 is available.\n",
      "You should consider upgrading via the 'pip install --upgrade pip' command.\u001b[0m\n",
      "Avr.channel1-before [[165.35742188]] Avr.channel1-after [[-4.42530669e-16]]\n",
      "Std.channel1-before [[79.81979939]] Std.channel1-after [[1.]]\n",
      "red\n",
      "Avr.channel1-before [[112.16503906]] Avr.channel1-after [[1.14383329e-16]]\n",
      "Std.channel1-before [[94.48015204]] Std.channel1-after [[1.]]\n",
      "green\n",
      "Avr.channel1-before [[105.5078125]] Avr.channel1-after [[2.73435788e-16]]\n",
      "Std.channel1-before [[93.34398507]] Std.channel1-after [[1.]]\n",
      "blue\n"
     ]
    }
   ],
   "source": [
    "#!wget \"https://i.imgur.com/uFdnEUm.jpg\"\n",
    "#!wget \"https://i.imgur.com/iGhTjut.jpg\"\n",
    "#!wget \"https://i.imgur.com/1cgDUYy.jpg\"\n",
    "#!wget \"https://i.imgur.com/2jYqKju.jpg\"\n",
    "#!wget \"https://i.imgur.com/A2K8BWj.jpg\"\n",
    "!pip install opencv-python\n",
    "import cv2\n",
    "import numpy as np\n",
    "from matplotlib import pyplot as plt\n",
    "from sklearn.preprocessing import StandardScaler\n",
    "\n",
    "img1 = cv2.imread(\"uFdnEUm.jpg\")\n",
    "img_cvt1=cv2.cvtColor(img1, cv2.COLOR_BGR2RGB)\n",
    "\n",
    "channel_1 = img_cvt1[:, :, 0].ravel()\n",
    "channel_2 = img_cvt1[:, :, 1].ravel()\n",
    "channel_3 = img_cvt1[:, :, 2].ravel()\n",
    "\n",
    "rbg_matrix = np.column_stack((channel_1,channel_2,channel_3))\n",
    "\n",
    "mean1, std1  =cv2.meanStdDev(channel_1)\n",
    "mean2, std2  =cv2.meanStdDev(channel_2)\n",
    "mean3, std3  =cv2.meanStdDev(channel_3)\n",
    "       \n",
    "channel_1m = (channel_1 - mean1)/std1\n",
    "channel_2m = (channel_2 - mean2)/std2\n",
    "channel_3m = (channel_3 - mean3)/std3\n",
    "\n",
    "mean4, std4  =cv2.meanStdDev(channel_1m)\n",
    "mean5, std5  =cv2.meanStdDev(channel_2m)\n",
    "mean6, std6  =cv2.meanStdDev(channel_3m)\n",
    "\n",
    "print ('Avr.channel1-before',mean1, 'Avr.channel1-after',mean4)\n",
    "print ('Std.channel1-before',std1, 'Std.channel1-after',std4)\n",
    "print('red')\n",
    "print ('Avr.channel1-before',mean2, 'Avr.channel1-after',mean5)\n",
    "print ('Std.channel1-before',std2, 'Std.channel1-after',std5)\n",
    "print('green')\n",
    "print ('Avr.channel1-before',mean3, 'Avr.channel1-after',mean6)\n",
    "print ('Std.channel1-before',std3, 'Std.channel1-after',std6)\n",
    "print ('blue')"
   ]
  },
  {
   "cell_type": "code",
   "execution_count": null,
   "metadata": {},
   "outputs": [],
   "source": []
  },
  {
   "cell_type": "code",
   "execution_count": null,
   "metadata": {},
   "outputs": [],
   "source": []
  },
  {
   "cell_type": "code",
   "execution_count": null,
   "metadata": {},
   "outputs": [],
   "source": []
  }
 ],
 "metadata": {
  "kernelspec": {
   "display_name": "Python 3",
   "language": "python",
   "name": "python3"
  },
  "language_info": {
   "codemirror_mode": {
    "name": "ipython",
    "version": 3
   },
   "file_extension": ".py",
   "mimetype": "text/x-python",
   "name": "python",
   "nbconvert_exporter": "python",
   "pygments_lexer": "ipython3",
   "version": "3.6.5"
  }
 },
 "nbformat": 4,
 "nbformat_minor": 2
}
